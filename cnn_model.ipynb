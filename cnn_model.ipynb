{
  "nbformat": 4,
  "nbformat_minor": 0,
  "metadata": {
    "colab": {
      "name": "cnn_model.ipynb",
      "provenance": [],
      "include_colab_link": true
    },
    "kernelspec": {
      "name": "python3",
      "display_name": "Python 3"
    }
  },
  "cells": [
    {
      "cell_type": "markdown",
      "metadata": {
        "id": "view-in-github",
        "colab_type": "text"
      },
      "source": [
        "<a href=\"https://colab.research.google.com/github/kapurm17/Self_seg_Dustbin/blob/kapurm17_patch1/cnn_model.ipynb\" target=\"_parent\"><img src=\"https://colab.research.google.com/assets/colab-badge.svg\" alt=\"Open In Colab\"/></a>"
      ]
    },
    {
      "cell_type": "code",
      "metadata": {
        "id": "_23GlmG05fQW",
        "colab_type": "code",
        "outputId": "e0ef2032-9165-480c-f15c-06084ff6111c",
        "colab": {
          "base_uri": "https://localhost:8080/",
          "height": 81
        }
      },
      "source": [
        "import os\n",
        "import numpy as np\n",
        "import pandas as pd\n",
        "import keras \n",
        "from keras.models import Sequential\n",
        "from keras.layers import Dense, Dropout, Flatten, Activation, Conv2D, MaxPooling2D\n",
        "from keras.optimizers import SGD, RMSprop\n",
        "from keras.preprocessing.image import ImageDataGenerator\n",
        "from keras import backend"
      ],
      "execution_count": 2,
      "outputs": [
        {
          "output_type": "stream",
          "text": [
            "Using TensorFlow backend.\n"
          ],
          "name": "stderr"
        },
        {
          "output_type": "display_data",
          "data": {
            "text/html": [
              "<p style=\"color: red;\">\n",
              "The default version of TensorFlow in Colab will soon switch to TensorFlow 2.x.<br>\n",
              "We recommend you <a href=\"https://www.tensorflow.org/guide/migrate\" target=\"_blank\">upgrade</a> now \n",
              "or ensure your notebook will continue to use TensorFlow 1.x via the <code>%tensorflow_version 1.x</code> magic:\n",
              "<a href=\"https://colab.research.google.com/notebooks/tensorflow_version.ipynb\" target=\"_blank\">more info</a>.</p>\n"
            ],
            "text/plain": [
              "<IPython.core.display.HTML object>"
            ]
          },
          "metadata": {
            "tags": []
          }
        }
      ]
    },
    {
      "cell_type": "code",
      "metadata": {
        "id": "9N-JvLi2CqOP",
        "colab_type": "code",
        "outputId": "8b3587be-6b2a-4550-9b32-38774c84f009",
        "colab": {
          "base_uri": "https://localhost:8080/",
          "height": 139
        }
      },
      "source": [
        "!git clone https://github.com/kapurm17/Self_seg_Dusbin"
      ],
      "execution_count": 3,
      "outputs": [
        {
          "output_type": "stream",
          "text": [
            "Cloning into 'Self_seg_Dusbin'...\n",
            "remote: Enumerating objects: 12, done.\u001b[K\n",
            "remote: Counting objects: 100% (12/12), done.\u001b[K\n",
            "remote: Compressing objects: 100% (12/12), done.\u001b[K\n",
            "remote: Total 3591 (delta 3), reused 0 (delta 0), pack-reused 3579\u001b[K\n",
            "Receiving objects: 100% (3591/3591), 40.43 MiB | 23.29 MiB/s, done.\n",
            "Resolving deltas: 100% (349/349), done.\n"
          ],
          "name": "stdout"
        }
      ]
    },
    {
      "cell_type": "code",
      "metadata": {
        "id": "TUGHXk47Amd7",
        "colab_type": "code",
        "outputId": "c15ede83-4d63-4afa-9ace-23229ef00dd8",
        "colab": {
          "base_uri": "https://localhost:8080/",
          "height": 34
        }
      },
      "source": [
        "os.listdir('./Self_seg_Dusbin/train/cardboard')"
      ],
      "execution_count": 4,
      "outputs": [
        {
          "output_type": "execute_result",
          "data": {
            "text/plain": [
              "['glass', 'plastic', 'cardboard', 'trash', 'paper', 'metal']"
            ]
          },
          "metadata": {
            "tags": []
          },
          "execution_count": 4
        }
      ]
    },
    {
      "cell_type": "code",
      "metadata": {
        "id": "EmBT439qBadY",
        "colab_type": "code",
        "colab": {}
      },
      "source": [
        "path = './Self_seg_Dusbin/train/cardboard'"
      ],
      "execution_count": 0,
      "outputs": []
    },
    {
      "cell_type": "code",
      "metadata": {
        "id": "p0yWFrsJBal5",
        "colab_type": "code",
        "colab": {}
      },
      "source": [
        "datagen = ImageDataGenerator(rescale=1.0/255, rotation_range=20,horizontal_flip=True, vertical_flip=True,  width_shift_range=0.2, height_shift_range=0.2, shear_range=0.1, validation_split=0.2) \n"
      ],
      "execution_count": 0,
      "outputs": []
    },
    {
      "cell_type": "code",
      "metadata": {
        "id": "WL9g1SGF_2EJ",
        "colab_type": "code",
        "outputId": "73925a09-433c-4c04-9eb9-b9f2876b018e",
        "colab": {
          "base_uri": "https://localhost:8080/",
          "height": 52
        }
      },
      "source": [
        "train = datagen.flow_from_directory(path, target_size=(512, 384), color_mode='rgb', seed=42, subset= 'training')\n",
        "val = datagen.flow_from_directory(path, target_size=(512, 384), color_mode='rgb', seed=42, subset= 'validation')"
      ],
      "execution_count": 8,
      "outputs": [
        {
          "output_type": "stream",
          "text": [
            "Found 2016 images belonging to 6 classes.\n",
            "Found 501 images belonging to 6 classes.\n"
          ],
          "name": "stdout"
        }
      ]
    },
    {
      "cell_type": "code",
      "metadata": {
        "id": "b_HMjvHCqMeZ",
        "colab_type": "code",
        "outputId": "217b11ac-3d29-47c2-e72f-df863b2fbd35",
        "colab": {
          "base_uri": "https://localhost:8080/",
          "height": 34
        }
      },
      "source": [
        "#, width_shift_range=0.2, height_shift_range=0.2, , \n",
        "backend.image_data_format()"
      ],
      "execution_count": 9,
      "outputs": [
        {
          "output_type": "execute_result",
          "data": {
            "text/plain": [
              "'channels_last'"
            ]
          },
          "metadata": {
            "tags": []
          },
          "execution_count": 9
        }
      ]
    },
    {
      "cell_type": "code",
      "metadata": {
        "id": "7HI3M9wYD2SV",
        "colab_type": "code",
        "colab": {
          "base_uri": "https://localhost:8080/",
          "height": 52
        },
        "outputId": "36eb784b-9ea8-457f-c6bf-4e66d009aec4"
      },
      "source": [
        "model = Sequential()"
      ],
      "execution_count": 10,
      "outputs": [
        {
          "output_type": "stream",
          "text": [
            "WARNING:tensorflow:From /usr/local/lib/python3.6/dist-packages/keras/backend/tensorflow_backend.py:66: The name tf.get_default_graph is deprecated. Please use tf.compat.v1.get_default_graph instead.\n",
            "\n"
          ],
          "name": "stdout"
        }
      ]
    },
    {
      "cell_type": "code",
      "metadata": {
        "id": "3kEzOj82EDXm",
        "colab_type": "code",
        "outputId": "0ff9f2e2-7dc4-4129-dc81-15324941b8bc",
        "colab": {
          "base_uri": "https://localhost:8080/",
          "height": 1000
        }
      },
      "source": [
        "img_wid = 512\n",
        "img_height= 384\n",
        "\n",
        "\n",
        "if backend.image_data_format() == 'channels_first':\n",
        "    input_shape = (3, img_wid, img_height)\n",
        "else:\n",
        "    input_shape=(img_wid, img_height, 3)\n",
        "\n",
        "batch_size= 25\n",
        "\n",
        "model_cnn = Sequential()\n",
        "model_cnn.add(Conv2D(filters=32, kernel_size=(2,2),padding='same',strides=(1,1), input_shape=input_shape))\n",
        "model_cnn.add(Activation('relu'))\n",
        "model_cnn.add(MaxPooling2D(pool_size= (2,2), strides=2))\n",
        "\n",
        "\n",
        "\n",
        "model_cnn.add(Conv2D(filters= 64, kernel_size=(2,2), padding='valid', strides=(1,1)))\n",
        "model_cnn.add(Activation('relu'))\n",
        "model_cnn.add(MaxPooling2D(pool_size=(2,2), strides=2))\n",
        "\n",
        "\n",
        "model_cnn.add(Conv2D(filters= 128, kernel_size=(3,3), padding='valid', strides=(1,1)))\n",
        "model_cnn.add(Activation('relu'))\n",
        "model_cnn.add(MaxPooling2D(pool_size=(3,3), strides=2))\n",
        "\n",
        "model_cnn.add(Flatten())\n",
        "\n",
        "model_cnn.add(Dense(128))\n",
        "model_cnn.add(Activation('relu'))\n",
        "\n",
        "model_cnn.add(Dense(64))\n",
        "model_cnn.add(Activation('relu'))\n",
        "\n",
        "model_cnn.add(Dropout(0.25))\n",
        "\n",
        "model_cnn.add(Dense(6))\n",
        "model_cnn.add(Activation('sigmoid'))\n",
        "\n",
        "\n",
        "model_cnn.compile(loss='categorical_crossentropy', optimizer='Adam', metrics=['accuracy'])\n",
        "\n",
        "model_cnn.fit_generator(train, epochs=30, steps_per_epoch= 70)\n"
      ],
      "execution_count": 11,
      "outputs": [
        {
          "output_type": "stream",
          "text": [
            "WARNING:tensorflow:From /usr/local/lib/python3.6/dist-packages/keras/backend/tensorflow_backend.py:541: The name tf.placeholder is deprecated. Please use tf.compat.v1.placeholder instead.\n",
            "\n",
            "WARNING:tensorflow:From /usr/local/lib/python3.6/dist-packages/keras/backend/tensorflow_backend.py:4432: The name tf.random_uniform is deprecated. Please use tf.random.uniform instead.\n",
            "\n",
            "WARNING:tensorflow:From /usr/local/lib/python3.6/dist-packages/keras/backend/tensorflow_backend.py:4267: The name tf.nn.max_pool is deprecated. Please use tf.nn.max_pool2d instead.\n",
            "\n",
            "WARNING:tensorflow:From /usr/local/lib/python3.6/dist-packages/keras/backend/tensorflow_backend.py:148: The name tf.placeholder_with_default is deprecated. Please use tf.compat.v1.placeholder_with_default instead.\n",
            "\n",
            "WARNING:tensorflow:From /usr/local/lib/python3.6/dist-packages/keras/backend/tensorflow_backend.py:3733: calling dropout (from tensorflow.python.ops.nn_ops) with keep_prob is deprecated and will be removed in a future version.\n",
            "Instructions for updating:\n",
            "Please use `rate` instead of `keep_prob`. Rate should be set to `rate = 1 - keep_prob`.\n",
            "WARNING:tensorflow:From /usr/local/lib/python3.6/dist-packages/keras/optimizers.py:793: The name tf.train.Optimizer is deprecated. Please use tf.compat.v1.train.Optimizer instead.\n",
            "\n",
            "WARNING:tensorflow:From /usr/local/lib/python3.6/dist-packages/keras/backend/tensorflow_backend.py:3576: The name tf.log is deprecated. Please use tf.math.log instead.\n",
            "\n",
            "WARNING:tensorflow:From /usr/local/lib/python3.6/dist-packages/tensorflow_core/python/ops/math_grad.py:1424: where (from tensorflow.python.ops.array_ops) is deprecated and will be removed in a future version.\n",
            "Instructions for updating:\n",
            "Use tf.where in 2.0, which has the same broadcast rule as np.where\n",
            "WARNING:tensorflow:From /usr/local/lib/python3.6/dist-packages/keras/backend/tensorflow_backend.py:1033: The name tf.assign_add is deprecated. Please use tf.compat.v1.assign_add instead.\n",
            "\n",
            "WARNING:tensorflow:From /usr/local/lib/python3.6/dist-packages/keras/backend/tensorflow_backend.py:1020: The name tf.assign is deprecated. Please use tf.compat.v1.assign instead.\n",
            "\n",
            "WARNING:tensorflow:From /usr/local/lib/python3.6/dist-packages/keras/backend/tensorflow_backend.py:3005: The name tf.Session is deprecated. Please use tf.compat.v1.Session instead.\n",
            "\n",
            "Epoch 1/30\n",
            "WARNING:tensorflow:From /usr/local/lib/python3.6/dist-packages/keras/backend/tensorflow_backend.py:190: The name tf.get_default_session is deprecated. Please use tf.compat.v1.get_default_session instead.\n",
            "\n",
            "WARNING:tensorflow:From /usr/local/lib/python3.6/dist-packages/keras/backend/tensorflow_backend.py:197: The name tf.ConfigProto is deprecated. Please use tf.compat.v1.ConfigProto instead.\n",
            "\n",
            "WARNING:tensorflow:From /usr/local/lib/python3.6/dist-packages/keras/backend/tensorflow_backend.py:207: The name tf.global_variables is deprecated. Please use tf.compat.v1.global_variables instead.\n",
            "\n",
            "WARNING:tensorflow:From /usr/local/lib/python3.6/dist-packages/keras/backend/tensorflow_backend.py:216: The name tf.is_variable_initialized is deprecated. Please use tf.compat.v1.is_variable_initialized instead.\n",
            "\n",
            "WARNING:tensorflow:From /usr/local/lib/python3.6/dist-packages/keras/backend/tensorflow_backend.py:223: The name tf.variables_initializer is deprecated. Please use tf.compat.v1.variables_initializer instead.\n",
            "\n",
            "70/70 [==============================] - 667s 10s/step - loss: 1.6321 - acc: 0.3147\n",
            "Epoch 2/30\n",
            "70/70 [==============================] - 650s 9s/step - loss: 1.4554 - acc: 0.3817\n",
            "Epoch 3/30\n",
            "70/70 [==============================] - 648s 9s/step - loss: 1.3949 - acc: 0.4460\n",
            "Epoch 4/30\n",
            "70/70 [==============================] - 649s 9s/step - loss: 1.2931 - acc: 0.5062\n",
            "Epoch 5/30\n",
            "70/70 [==============================] - 647s 9s/step - loss: 1.2159 - acc: 0.5321\n",
            "Epoch 6/30\n",
            "70/70 [==============================] - 647s 9s/step - loss: 1.2345 - acc: 0.5147\n",
            "Epoch 7/30\n",
            "70/70 [==============================] - 646s 9s/step - loss: 1.1119 - acc: 0.5500\n",
            "Epoch 8/30\n",
            "70/70 [==============================] - 641s 9s/step - loss: 1.1000 - acc: 0.5750\n",
            "Epoch 9/30\n",
            "70/70 [==============================] - 640s 9s/step - loss: 1.0585 - acc: 0.5835\n",
            "Epoch 10/30\n",
            "70/70 [==============================] - 655s 9s/step - loss: 1.0510 - acc: 0.6156\n",
            "Epoch 11/30\n",
            "70/70 [==============================] - 645s 9s/step - loss: 1.0054 - acc: 0.6308\n",
            "Epoch 12/30\n",
            "70/70 [==============================] - 645s 9s/step - loss: 1.0173 - acc: 0.6112\n",
            "Epoch 13/30\n",
            "70/70 [==============================] - 646s 9s/step - loss: 0.9678 - acc: 0.6393\n",
            "Epoch 14/30\n",
            "70/70 [==============================] - 644s 9s/step - loss: 0.9300 - acc: 0.6621\n",
            "Epoch 15/30\n",
            "70/70 [==============================] - 646s 9s/step - loss: 0.9231 - acc: 0.6549\n",
            "Epoch 16/30\n",
            "70/70 [==============================] - 661s 9s/step - loss: 0.9156 - acc: 0.6625\n",
            "Epoch 17/30\n",
            "70/70 [==============================] - 660s 9s/step - loss: 0.8329 - acc: 0.7098\n",
            "Epoch 18/30\n",
            "70/70 [==============================] - 649s 9s/step - loss: 0.8718 - acc: 0.6857\n",
            "Epoch 19/30\n",
            "70/70 [==============================] - 658s 9s/step - loss: 0.8253 - acc: 0.6951\n",
            "Epoch 20/30\n",
            "70/70 [==============================] - 652s 9s/step - loss: 0.8335 - acc: 0.6866\n",
            "Epoch 21/30\n",
            "70/70 [==============================] - 651s 9s/step - loss: 0.7948 - acc: 0.7125\n",
            "Epoch 22/30\n",
            "70/70 [==============================] - 654s 9s/step - loss: 0.8240 - acc: 0.6929\n",
            "Epoch 23/30\n",
            "70/70 [==============================] - 660s 9s/step - loss: 0.7426 - acc: 0.7277\n",
            "Epoch 24/30\n",
            "70/70 [==============================] - 665s 9s/step - loss: 0.7442 - acc: 0.7321\n",
            "Epoch 25/30\n",
            "70/70 [==============================] - 663s 9s/step - loss: 0.7681 - acc: 0.7228\n",
            "Epoch 26/30\n",
            "70/70 [==============================] - 659s 9s/step - loss: 0.7474 - acc: 0.7299\n",
            "Epoch 27/30\n",
            "70/70 [==============================] - 660s 9s/step - loss: 0.7264 - acc: 0.7411\n",
            "Epoch 28/30\n",
            "70/70 [==============================] - 674s 10s/step - loss: 0.6752 - acc: 0.7545\n",
            "Epoch 29/30\n",
            "70/70 [==============================] - 665s 9s/step - loss: 0.7156 - acc: 0.7469\n",
            "Epoch 30/30\n",
            "70/70 [==============================] - 666s 10s/step - loss: 0.6579 - acc: 0.7554\n"
          ],
          "name": "stdout"
        },
        {
          "output_type": "execute_result",
          "data": {
            "text/plain": [
              "<keras.callbacks.History at 0x7f21f1ffcb70>"
            ]
          },
          "metadata": {
            "tags": []
          },
          "execution_count": 11
        }
      ]
    },
    {
      "cell_type": "code",
      "metadata": {
        "id": "Qevfk0a1HHqN",
        "colab_type": "code",
        "colab": {
          "base_uri": "https://localhost:8080/",
          "height": 34
        },
        "outputId": "d177517c-59bf-4992-944b-e595ca8d6819"
      },
      "source": [
        "model_cnn.evaluate_generator(val)"
      ],
      "execution_count": 12,
      "outputs": [
        {
          "output_type": "execute_result",
          "data": {
            "text/plain": [
              "[1.1285391173914758, 0.6187624758826996]"
            ]
          },
          "metadata": {
            "tags": []
          },
          "execution_count": 12
        }
      ]
    },
    {
      "cell_type": "code",
      "metadata": {
        "id": "MYIHKerRHSYO",
        "colab_type": "code",
        "colab": {}
      },
      "source": [
        ""
      ],
      "execution_count": 0,
      "outputs": []
    },
    {
      "cell_type": "code",
      "metadata": {
        "id": "KjYNueM5DGGW",
        "colab_type": "code",
        "colab": {}
      },
      "source": [
        ""
      ],
      "execution_count": 0,
      "outputs": []
    },
    {
      "cell_type": "code",
      "metadata": {
        "id": "aMwaobcnDLex",
        "colab_type": "code",
        "colab": {}
      },
      "source": [
        ""
      ],
      "execution_count": 0,
      "outputs": []
    },
    {
      "cell_type": "code",
      "metadata": {
        "id": "ZOcCu7S1DbvR",
        "colab_type": "code",
        "colab": {}
      },
      "source": [
        ""
      ],
      "execution_count": 0,
      "outputs": []
    }
  ]
}