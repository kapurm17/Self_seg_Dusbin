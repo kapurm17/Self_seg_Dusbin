{
  "nbformat": 4,
  "nbformat_minor": 0,
  "metadata": {
    "colab": {
      "name": "cnn_model.ipynb",
      "provenance": [],
      "include_colab_link": true
    },
    "kernelspec": {
      "name": "python3",
      "display_name": "Python 3"
    }
  },
  "cells": [
    {
      "cell_type": "markdown",
      "metadata": {
        "id": "view-in-github",
        "colab_type": "text"
      },
      "source": [
        "<a href=\"https://colab.research.google.com/github/kapurm17/Self_seg_Dustbin/blob/kapurm17_patch1/cnn_model.ipynb\" target=\"_parent\"><img src=\"https://colab.research.google.com/assets/colab-badge.svg\" alt=\"Open In Colab\"/></a>"
      ]
    },
    {
      "cell_type": "code",
      "metadata": {
        "id": "_23GlmG05fQW",
        "colab_type": "code",
        "outputId": "1db41512-e8ee-4a65-fd27-9b46536bb182",
        "colab": {
          "base_uri": "https://localhost:8080/",
          "height": 81
        }
      },
      "source": [
        "import os\n",
        "import numpy as np\n",
        "import pandas as pd\n",
        "import keras \n",
        "from keras.models import Sequential\n",
        "from keras.layers import Dense, Dropout, Flatten, Activation, Conv2D, MaxPooling2D\n",
        "from keras.optimizers import SGD, RMSprop\n",
        "from keras.preprocessing.image import ImageDataGenerator\n",
        "from keras import backend"
      ],
      "execution_count": 1,
      "outputs": [
        {
          "output_type": "stream",
          "text": [
            "Using TensorFlow backend.\n"
          ],
          "name": "stderr"
        },
        {
          "output_type": "display_data",
          "data": {
            "text/html": [
              "<p style=\"color: red;\">\n",
              "The default version of TensorFlow in Colab will soon switch to TensorFlow 2.x.<br>\n",
              "We recommend you <a href=\"https://www.tensorflow.org/guide/migrate\" target=\"_blank\">upgrade</a> now \n",
              "or ensure your notebook will continue to use TensorFlow 1.x via the <code>%tensorflow_version 1.x</code> magic:\n",
              "<a href=\"https://colab.research.google.com/notebooks/tensorflow_version.ipynb\" target=\"_blank\">more info</a>.</p>\n"
            ],
            "text/plain": [
              "<IPython.core.display.HTML object>"
            ]
          },
          "metadata": {
            "tags": []
          }
        }
      ]
    },
    {
      "cell_type": "code",
      "metadata": {
        "id": "9N-JvLi2CqOP",
        "colab_type": "code",
        "outputId": "fa707297-2cb7-4de6-f0af-b1e607c35320",
        "colab": {
          "base_uri": "https://localhost:8080/",
          "height": 139
        }
      },
      "source": [
        "!git clone https://github.com/kapurm17/Self_seg_Dusbin"
      ],
      "execution_count": 2,
      "outputs": [
        {
          "output_type": "stream",
          "text": [
            "Cloning into 'Self_seg_Dusbin'...\n",
            "remote: Enumerating objects: 8, done.\u001b[K\n",
            "remote: Counting objects: 100% (8/8), done.\u001b[K\n",
            "remote: Compressing objects: 100% (8/8), done.\u001b[K\n",
            "remote: Total 3587 (delta 2), reused 0 (delta 0), pack-reused 3579\u001b[K\n",
            "Receiving objects: 100% (3587/3587), 40.42 MiB | 22.53 MiB/s, done.\n",
            "Resolving deltas: 100% (348/348), done.\n"
          ],
          "name": "stdout"
        }
      ]
    },
    {
      "cell_type": "code",
      "metadata": {
        "id": "TUGHXk47Amd7",
        "colab_type": "code",
        "outputId": "e1b48466-8173-4ab1-ec53-37bd416d227f",
        "colab": {
          "base_uri": "https://localhost:8080/",
          "height": 34
        }
      },
      "source": [
        "os.listdir('./Self_seg_Dusbin/train/cardboard')"
      ],
      "execution_count": 3,
      "outputs": [
        {
          "output_type": "execute_result",
          "data": {
            "text/plain": [
              "['glass', 'plastic', 'cardboard', 'trash', 'paper', 'metal']"
            ]
          },
          "metadata": {
            "tags": []
          },
          "execution_count": 3
        }
      ]
    },
    {
      "cell_type": "code",
      "metadata": {
        "id": "EmBT439qBadY",
        "colab_type": "code",
        "colab": {}
      },
      "source": [
        "path = './Self_seg_Dusbin/train/cardboard'"
      ],
      "execution_count": 0,
      "outputs": []
    },
    {
      "cell_type": "code",
      "metadata": {
        "id": "p0yWFrsJBal5",
        "colab_type": "code",
        "colab": {}
      },
      "source": [
        "datagen = ImageDataGenerator(rescale=1.0/255, rotation_range=20,horizontal_flip=True, vertical_flip=True) "
      ],
      "execution_count": 0,
      "outputs": []
    },
    {
      "cell_type": "code",
      "metadata": {
        "id": "WL9g1SGF_2EJ",
        "colab_type": "code",
        "outputId": "44d63e85-e4bd-4fad-a74f-56ab22a84cfe",
        "colab": {
          "base_uri": "https://localhost:8080/",
          "height": 34
        }
      },
      "source": [
        "train = datagen.flow_from_directory(path, target_size=(512, 384), seed=42)"
      ],
      "execution_count": 12,
      "outputs": [
        {
          "output_type": "stream",
          "text": [
            "Found 2517 images belonging to 6 classes.\n"
          ],
          "name": "stdout"
        }
      ]
    },
    {
      "cell_type": "code",
      "metadata": {
        "id": "b_HMjvHCqMeZ",
        "colab_type": "code",
        "outputId": "452663c1-3e4d-4d27-b154-01d35a46fe67",
        "colab": {
          "base_uri": "https://localhost:8080/",
          "height": 34
        }
      },
      "source": [
        "#, width_shift_range=0.2, height_shift_range=0.2, , \n",
        "backend.image_data_format()"
      ],
      "execution_count": 13,
      "outputs": [
        {
          "output_type": "execute_result",
          "data": {
            "text/plain": [
              "'channels_last'"
            ]
          },
          "metadata": {
            "tags": []
          },
          "execution_count": 13
        }
      ]
    },
    {
      "cell_type": "code",
      "metadata": {
        "id": "7HI3M9wYD2SV",
        "colab_type": "code",
        "colab": {}
      },
      "source": [
        "model = Sequential()"
      ],
      "execution_count": 0,
      "outputs": []
    },
    {
      "cell_type": "code",
      "metadata": {
        "id": "3kEzOj82EDXm",
        "colab_type": "code",
        "outputId": "4a725df9-7608-4ca5-b931-d2140b8c3071",
        "colab": {
          "base_uri": "https://localhost:8080/",
          "height": 729
        }
      },
      "source": [
        "img_wid = 512\n",
        "img_height= 384\n",
        "\n",
        "\n",
        "if backend.image_data_format() == 'channels_first':\n",
        "    input_shape = (3, img_wid, img_height)\n",
        "else:\n",
        "    input_shape=(img_wid, img_height, 3)\n",
        "\n",
        "batch_size= 25\n",
        "\n",
        "model_cnn = Sequential()\n",
        "model_cnn.add(Conv2D(filters=32, kernel_size=(2,2),padding='same',strides=(1,1), input_shape=input_shape))\n",
        "model_cnn.add(Activation('relu'))\n",
        "model_cnn.add(MaxPooling2D(pool_size= (2,2), strides=2))\n",
        "\n",
        "\n",
        "\n",
        "model_cnn.add(Conv2D(filters= 64, kernel_size=(2,2), padding='valid', strides=(1,1)))\n",
        "model_cnn.add(Activation('relu'))\n",
        "model_cnn.add(MaxPooling2D(pool_size=(2,2), strides=2))\n",
        "\n",
        "\n",
        "model_cnn.add(Conv2D(filters= 128, kernel_size=(3,3), padding='valid', strides=(1,1)))\n",
        "model_cnn.add(Activation('relu'))\n",
        "model_cnn.add(MaxPooling2D(pool_size=(3,3), strides=2))\n",
        "\n",
        "model_cnn.add(Flatten())\n",
        "\n",
        "model_cnn.add(Dense(128))\n",
        "model_cnn.add(Activation('relu'))\n",
        "\n",
        "model_cnn.add(Dense(64))\n",
        "model_cnn.add(Activation('relu'))\n",
        "\n",
        "model_cnn.add(Dropout(0.25))\n",
        "\n",
        "model_cnn.add(Dense(6))\n",
        "model_cnn.add(Activation('sigmoid'))\n",
        "\n",
        "\n",
        "model_cnn.compile(loss='categorical_crossentropy', optimizer='Adam', metrics=['accuracy'])\n",
        "\n",
        "model_cnn.fit_generator(train, epochs=20, steps_per_epoch= 2500//50)\n"
      ],
      "execution_count": 16,
      "outputs": [
        {
          "output_type": "stream",
          "text": [
            "Epoch 1/20\n",
            "50/50 [==============================] - 550s 11s/step - loss: 1.7975 - acc: 0.2807\n",
            "Epoch 2/20\n",
            "50/50 [==============================] - 533s 11s/step - loss: 1.5496 - acc: 0.3626\n",
            "Epoch 3/20\n",
            "50/50 [==============================] - 531s 11s/step - loss: 1.4712 - acc: 0.3981\n",
            "Epoch 4/20\n",
            "50/50 [==============================] - 538s 11s/step - loss: 1.3639 - acc: 0.4769\n",
            "Epoch 5/20\n",
            "50/50 [==============================] - 530s 11s/step - loss: 1.2810 - acc: 0.4895\n",
            "Epoch 6/20\n",
            "50/50 [==============================] - 530s 11s/step - loss: 1.2698 - acc: 0.5073\n",
            "Epoch 7/20\n",
            "50/50 [==============================] - 534s 11s/step - loss: 1.2173 - acc: 0.5400\n",
            "Epoch 8/20\n",
            "50/50 [==============================] - 528s 11s/step - loss: 1.2040 - acc: 0.5203\n",
            "Epoch 9/20\n",
            "50/50 [==============================] - 536s 11s/step - loss: 1.1475 - acc: 0.5775\n",
            "Epoch 10/20\n",
            "50/50 [==============================] - 534s 11s/step - loss: 1.1110 - acc: 0.5737\n",
            "Epoch 11/20\n",
            "50/50 [==============================] - 521s 10s/step - loss: 1.0656 - acc: 0.5821\n",
            "Epoch 12/20\n",
            "50/50 [==============================] - 541s 11s/step - loss: 1.1679 - acc: 0.5643\n",
            "Epoch 13/20\n",
            "50/50 [==============================] - 534s 11s/step - loss: 1.0457 - acc: 0.5994\n",
            "Epoch 14/20\n",
            "50/50 [==============================] - 532s 11s/step - loss: 0.9813 - acc: 0.6264\n",
            "Epoch 15/20\n",
            "50/50 [==============================] - 533s 11s/step - loss: 0.9840 - acc: 0.6437\n",
            "Epoch 16/20\n",
            "50/50 [==============================] - 527s 11s/step - loss: 0.9609 - acc: 0.6577\n",
            "Epoch 17/20\n",
            "50/50 [==============================] - 527s 11s/step - loss: 0.9055 - acc: 0.6780\n",
            "Epoch 18/20\n",
            "50/50 [==============================] - 534s 11s/step - loss: 0.8661 - acc: 0.7075\n",
            "Epoch 19/20\n",
            "50/50 [==============================] - 520s 10s/step - loss: 0.8973 - acc: 0.6733\n",
            "Epoch 20/20\n",
            "50/50 [==============================] - 536s 11s/step - loss: 0.8092 - acc: 0.7065\n"
          ],
          "name": "stdout"
        },
        {
          "output_type": "execute_result",
          "data": {
            "text/plain": [
              "<keras.callbacks.History at 0x7f14ec6f8978>"
            ]
          },
          "metadata": {
            "tags": []
          },
          "execution_count": 16
        }
      ]
    },
    {
      "cell_type": "code",
      "metadata": {
        "id": "Qevfk0a1HHqN",
        "colab_type": "code",
        "colab": {}
      },
      "source": [
        ""
      ],
      "execution_count": 0,
      "outputs": []
    },
    {
      "cell_type": "code",
      "metadata": {
        "id": "MYIHKerRHSYO",
        "colab_type": "code",
        "colab": {}
      },
      "source": [
        ""
      ],
      "execution_count": 0,
      "outputs": []
    }
  ]
}