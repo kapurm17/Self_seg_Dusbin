{
  "nbformat": 4,
  "nbformat_minor": 0,
  "metadata": {
    "colab": {
      "name": "cnn_model.ipynb",
      "provenance": [],
      "include_colab_link": true
    },
    "kernelspec": {
      "name": "python3",
      "display_name": "Python 3"
    }
  },
  "cells": [
    {
      "cell_type": "markdown",
      "metadata": {
        "id": "view-in-github",
        "colab_type": "text"
      },
      "source": [
        "<a href=\"https://colab.research.google.com/github/kapurm17/Self_seg_Dusbin/blob/kapurm17_patch1/cnn_model.ipynb\" target=\"_parent\"><img src=\"https://colab.research.google.com/assets/colab-badge.svg\" alt=\"Open In Colab\"/></a>"
      ]
    },
    {
      "cell_type": "code",
      "metadata": {
        "id": "_23GlmG05fQW",
        "colab_type": "code",
        "colab": {
          "base_uri": "https://localhost:8080/",
          "height": 81
        },
        "outputId": "47ff4f97-67e0-4b4e-a1c7-98d3fb43b3c0"
      },
      "source": [
        "import os\n",
        "import numpy as np\n",
        "import pandas as pd\n",
        "import keras \n",
        "from keras.models import Sequential\n",
        "from keras.layers import Dense, Dropout, Flatten, Activation, Conv2D, MaxPooling2D\n",
        "from keras.optimizers import SGD, RMSprop\n",
        "from keras.preprocessing.image import ImageDataGenerator\n",
        "from keras import backend"
      ],
      "execution_count": 1,
      "outputs": [
        {
          "output_type": "stream",
          "text": [
            "Using TensorFlow backend.\n"
          ],
          "name": "stderr"
        },
        {
          "output_type": "display_data",
          "data": {
            "text/html": [
              "<p style=\"color: red;\">\n",
              "The default version of TensorFlow in Colab will soon switch to TensorFlow 2.x.<br>\n",
              "We recommend you <a href=\"https://www.tensorflow.org/guide/migrate\" target=\"_blank\">upgrade</a> now \n",
              "or ensure your notebook will continue to use TensorFlow 1.x via the <code>%tensorflow_version 1.x</code> magic:\n",
              "<a href=\"https://colab.research.google.com/notebooks/tensorflow_version.ipynb\" target=\"_blank\">more info</a>.</p>\n"
            ],
            "text/plain": [
              "<IPython.core.display.HTML object>"
            ]
          },
          "metadata": {
            "tags": []
          }
        }
      ]
    },
    {
      "cell_type": "code",
      "metadata": {
        "id": "9N-JvLi2CqOP",
        "colab_type": "code",
        "outputId": "85f2e5fb-b28b-4c4e-c135-7163c18cb29b",
        "colab": {
          "base_uri": "https://localhost:8080/",
          "height": 139
        }
      },
      "source": [
        "!git clone https://github.com/kapurm17/Self_seg_Dusbin"
      ],
      "execution_count": 3,
      "outputs": [
        {
          "output_type": "stream",
          "text": [
            "Cloning into 'Self_seg_Dusbin'...\n",
            "remote: Enumerating objects: 4, done.\u001b[K\n",
            "remote: Counting objects: 100% (4/4), done.\u001b[K\n",
            "remote: Compressing objects: 100% (4/4), done.\u001b[K\n",
            "remote: Total 3583 (delta 1), reused 0 (delta 0), pack-reused 3579\n",
            "Receiving objects: 100% (3583/3583), 40.42 MiB | 28.78 MiB/s, done.\n",
            "Resolving deltas: 100% (347/347), done.\n"
          ],
          "name": "stdout"
        }
      ]
    },
    {
      "cell_type": "code",
      "metadata": {
        "id": "TUGHXk47Amd7",
        "colab_type": "code",
        "outputId": "ba99ba78-65c3-4111-b70a-aae9275ff53c",
        "colab": {
          "base_uri": "https://localhost:8080/",
          "height": 34
        }
      },
      "source": [
        "os.listdir('./Self_seg_Dusbin/train/cardboard')"
      ],
      "execution_count": 4,
      "outputs": [
        {
          "output_type": "execute_result",
          "data": {
            "text/plain": [
              "['glass', 'plastic', 'cardboard', 'trash', 'paper', 'metal']"
            ]
          },
          "metadata": {
            "tags": []
          },
          "execution_count": 4
        }
      ]
    },
    {
      "cell_type": "code",
      "metadata": {
        "id": "EmBT439qBadY",
        "colab_type": "code",
        "colab": {}
      },
      "source": [
        "path = './Self_seg_Dusbin/train/cardboard'"
      ],
      "execution_count": 0,
      "outputs": []
    },
    {
      "cell_type": "code",
      "metadata": {
        "id": "p0yWFrsJBal5",
        "colab_type": "code",
        "colab": {}
      },
      "source": [
        "datagen = ImageDataGenerator(rescale=1.0/255, rotation_range=20,horizontal_flip=True, vertical_flip=True) "
      ],
      "execution_count": 0,
      "outputs": []
    },
    {
      "cell_type": "code",
      "metadata": {
        "id": "WL9g1SGF_2EJ",
        "colab_type": "code",
        "outputId": "4436221a-b71f-4316-c613-be26963f3a07",
        "colab": {
          "base_uri": "https://localhost:8080/",
          "height": 34
        }
      },
      "source": [
        "train = datagen.flow_from_directory(path, target_size=(512, 384), seed=42)"
      ],
      "execution_count": 18,
      "outputs": [
        {
          "output_type": "stream",
          "text": [
            "Found 2517 images belonging to 6 classes.\n"
          ],
          "name": "stdout"
        }
      ]
    },
    {
      "cell_type": "code",
      "metadata": {
        "id": "b_HMjvHCqMeZ",
        "colab_type": "code",
        "colab": {
          "base_uri": "https://localhost:8080/",
          "height": 34
        },
        "outputId": "1e2becc0-21fe-4df9-f271-42d1f40dd5be"
      },
      "source": [
        "#, width_shift_range=0.2, height_shift_range=0.2, , \n",
        "backend.image_data_format()"
      ],
      "execution_count": 12,
      "outputs": [
        {
          "output_type": "execute_result",
          "data": {
            "text/plain": [
              "'channels_last'"
            ]
          },
          "metadata": {
            "tags": []
          },
          "execution_count": 12
        }
      ]
    },
    {
      "cell_type": "code",
      "metadata": {
        "id": "7HI3M9wYD2SV",
        "colab_type": "code",
        "colab": {}
      },
      "source": [
        "model = Sequential()"
      ],
      "execution_count": 0,
      "outputs": []
    },
    {
      "cell_type": "code",
      "metadata": {
        "id": "3kEzOj82EDXm",
        "colab_type": "code",
        "outputId": "a52d72c0-53cd-4c82-9eb9-678375992dcc",
        "colab": {
          "base_uri": "https://localhost:8080/",
          "height": 729
        }
      },
      "source": [
        "img_wid = 512\n",
        "img_height= 384\n",
        "\n",
        "\n",
        "if backend.image_data_format() == 'channels_first':\n",
        "    input_shape = (3, img_wid, img_height)\n",
        "else:\n",
        "    input_shape=(img_wid, img_height, 3)\n",
        "\n",
        "batch_size= 25\n",
        "\n",
        "model_cnn = Sequential()\n",
        "model_cnn.add(Conv2D(filters=32, kernel_size=(2,2),padding='same',strides=(1,1), input_shape=input_shape))\n",
        "model_cnn.add(Activation('relu'))\n",
        "model_cnn.add(MaxPooling2D(pool_size= (2,2), strides=2))\n",
        "\n",
        "\n",
        "\n",
        "model_cnn.add(Conv2D(filters= 64, kernel_size=(2,2), padding='valid', strides=(1,1)))\n",
        "model_cnn.add(Activation('relu'))\n",
        "model_cnn.add(MaxPooling2D(pool_size=(2,2), strides=2))\n",
        "\n",
        "\n",
        "model_cnn.add(Conv2D(filters= 128, kernel_size=(3,3), padding='valid', strides=(1,1)))\n",
        "model_cnn.add(Activation('relu'))\n",
        "model_cnn.add(MaxPooling2D(pool_size=(3,3), strides=2))\n",
        "\n",
        "model_cnn.add(Flatten())\n",
        "\n",
        "model_cnn.add(Dense(128))\n",
        "model_cnn.add(Activation('relu'))\n",
        "\n",
        "model_cnn.add(Dense(64))\n",
        "model_cnn.add(Activation('relu'))\n",
        "\n",
        "model_cnn.add(Dropout(0.25))\n",
        "\n",
        "model_cnn.add(Dense(6))\n",
        "model_cnn.add(Activation('sigmoid'))\n",
        "\n",
        "\n",
        "model_cnn.compile(loss='categorical_crossentropy', optimizer='RMSprop', metrics=['accuracy'])\n",
        "\n",
        "model_cnn.fit_generator(train, epochs=20, steps_per_epoch= 2500//50)\n"
      ],
      "execution_count": 21,
      "outputs": [
        {
          "output_type": "stream",
          "text": [
            "Epoch 1/20\n",
            "50/50 [==============================] - 541s 11s/step - loss: 1.9250 - acc: 0.2019\n",
            "Epoch 2/20\n",
            "50/50 [==============================] - 548s 11s/step - loss: 1.8904 - acc: 0.1594\n",
            "Epoch 3/20\n",
            "50/50 [==============================] - 538s 11s/step - loss: 1.8546 - acc: 0.1785\n",
            "Epoch 4/20\n",
            "50/50 [==============================] - 550s 11s/step - loss: 1.6968 - acc: 0.2438\n",
            "Epoch 5/20\n",
            "50/50 [==============================] - 561s 11s/step - loss: 1.6065 - acc: 0.2942\n",
            "Epoch 6/20\n",
            "50/50 [==============================] - 561s 11s/step - loss: 1.5343 - acc: 0.3337\n",
            "Epoch 7/20\n",
            "50/50 [==============================] - 559s 11s/step - loss: 1.4789 - acc: 0.3862\n",
            "Epoch 8/20\n",
            "50/50 [==============================] - 556s 11s/step - loss: 1.3874 - acc: 0.4552\n",
            "Epoch 9/20\n",
            "50/50 [==============================] - 545s 11s/step - loss: 1.3648 - acc: 0.4501\n",
            "Epoch 10/20\n",
            "50/50 [==============================] - 508s 10s/step - loss: 1.2846 - acc: 0.4739\n",
            "Epoch 11/20\n",
            "50/50 [==============================] - 504s 10s/step - loss: 1.2292 - acc: 0.5256\n",
            "Epoch 12/20\n",
            "50/50 [==============================] - 535s 11s/step - loss: 1.2733 - acc: 0.5308\n",
            "Epoch 13/20\n",
            "50/50 [==============================] - 539s 11s/step - loss: 1.2024 - acc: 0.5494\n",
            "Epoch 14/20\n",
            "50/50 [==============================] - 552s 11s/step - loss: 1.1240 - acc: 0.5808\n",
            "Epoch 15/20\n",
            "50/50 [==============================] - 553s 11s/step - loss: 1.1109 - acc: 0.5702\n",
            "Epoch 16/20\n",
            "50/50 [==============================] - 559s 11s/step - loss: 1.1296 - acc: 0.6000\n",
            "Epoch 17/20\n",
            "50/50 [==============================] - 566s 11s/step - loss: 1.1217 - acc: 0.6055\n",
            "Epoch 18/20\n",
            "50/50 [==============================] - 567s 11s/step - loss: 1.0480 - acc: 0.6181\n",
            "Epoch 19/20\n",
            "50/50 [==============================] - 557s 11s/step - loss: 0.9890 - acc: 0.6424\n",
            "Epoch 20/20\n",
            "50/50 [==============================] - 530s 11s/step - loss: 0.9304 - acc: 0.6593\n"
          ],
          "name": "stdout"
        },
        {
          "output_type": "execute_result",
          "data": {
            "text/plain": [
              "<keras.callbacks.History at 0x7f7fe870dd68>"
            ]
          },
          "metadata": {
            "tags": []
          },
          "execution_count": 21
        }
      ]
    },
    {
      "cell_type": "code",
      "metadata": {
        "id": "Qevfk0a1HHqN",
        "colab_type": "code",
        "colab": {}
      },
      "source": [
        ""
      ],
      "execution_count": 0,
      "outputs": []
    },
    {
      "cell_type": "code",
      "metadata": {
        "id": "MYIHKerRHSYO",
        "colab_type": "code",
        "colab": {}
      },
      "source": [
        ""
      ],
      "execution_count": 0,
      "outputs": []
    }
  ]
}